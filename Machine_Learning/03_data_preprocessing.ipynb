{
 "cells": [
  {
   "cell_type": "markdown",
   "id": "d548df64",
   "metadata": {},
   "source": [
    "## Sample Data"
   ]
  },
  {
   "cell_type": "code",
   "execution_count": 2,
   "id": "b04599a2",
   "metadata": {},
   "outputs": [
    {
     "data": {
      "text/plain": [
       "array([[ 0.5,  4.5, -1.2],\n",
       "       [ 2.1, -1.2,  0.2],\n",
       "       [ 1.1, -8.9,  4.8],\n",
       "       [-4.3,  1.7,  6.2]])"
      ]
     },
     "execution_count": 2,
     "metadata": {},
     "output_type": "execute_result"
    }
   ],
   "source": [
    "import numpy as np\n",
    "from sklearn import preprocessing\n",
    "\n",
    "sample_data = np.array([[0.5, 4.5, -1.2],\n",
    "                       [2.1, -1.2, 0.2],\n",
    "                       [1.1, -8.9, 4.8],\n",
    "                       [-4.3, 1.7, 6.2]])\n",
    "\n",
    "sample_data"
   ]
  },
  {
   "cell_type": "code",
   "execution_count": 3,
   "id": "2c9feb5b",
   "metadata": {},
   "outputs": [
    {
     "data": {
      "text/plain": [
       "(4, 3)"
      ]
     },
     "execution_count": 3,
     "metadata": {},
     "output_type": "execute_result"
    }
   ],
   "source": [
    "sample_data.shape"
   ]
  },
  {
   "cell_type": "markdown",
   "id": "51a45057",
   "metadata": {},
   "source": [
    "## Binarisation"
   ]
  },
  {
   "cell_type": "code",
   "execution_count": 4,
   "id": "a752311e",
   "metadata": {},
   "outputs": [
    {
     "data": {
      "text/plain": [
       "array([[ 0.5,  4.5, -1.2],\n",
       "       [ 2.1, -1.2,  0.2],\n",
       "       [ 1.1, -8.9,  4.8],\n",
       "       [-4.3,  1.7,  6.2]])"
      ]
     },
     "execution_count": 4,
     "metadata": {},
     "output_type": "execute_result"
    }
   ],
   "source": [
    "sample_data"
   ]
  },
  {
   "cell_type": "code",
   "execution_count": 7,
   "id": "1f687a5c",
   "metadata": {},
   "outputs": [
    {
     "data": {
      "text/plain": [
       "array([[0., 1., 0.],\n",
       "       [1., 0., 0.],\n",
       "       [1., 0., 1.],\n",
       "       [0., 1., 1.]])"
      ]
     },
     "execution_count": 7,
     "metadata": {},
     "output_type": "execute_result"
    }
   ],
   "source": [
    "preprocessor = preprocessing.Binarizer(threshold=0.5)\n",
    "binarised_data = preprocessor.transform(sample_data)\n",
    "binarised_data"
   ]
  },
  {
   "cell_type": "markdown",
   "id": "1ce43134",
   "metadata": {},
   "source": [
    "## Scaling"
   ]
  },
  {
   "cell_type": "code",
   "execution_count": 9,
   "id": "a5e909dc",
   "metadata": {},
   "outputs": [
    {
     "data": {
      "text/plain": [
       "array([[ 0.5,  4.5, -1.2],\n",
       "       [ 2.1, -1.2,  0.2],\n",
       "       [ 1.1, -8.9,  4.8],\n",
       "       [-4.3,  1.7,  6.2]])"
      ]
     },
     "execution_count": 9,
     "metadata": {},
     "output_type": "execute_result"
    }
   ],
   "source": [
    "sample_data"
   ]
  },
  {
   "cell_type": "code",
   "execution_count": 10,
   "id": "5eaa2329",
   "metadata": {},
   "outputs": [
    {
     "data": {
      "text/plain": [
       "array([[0.75      , 1.        , 0.        ],\n",
       "       [1.        , 0.57462687, 0.18918919],\n",
       "       [0.84375   , 0.        , 0.81081081],\n",
       "       [0.        , 0.79104478, 1.        ]])"
      ]
     },
     "execution_count": 10,
     "metadata": {},
     "output_type": "execute_result"
    }
   ],
   "source": [
    "preprocessor = preprocessing.MinMaxScaler(feature_range=(0, 1))\n",
    "preprocessor.fit(sample_data)\n",
    "scaled_data = preprocessor.transform(sample_data)\n",
    "scaled_data"
   ]
  },
  {
   "cell_type": "code",
   "execution_count": 11,
   "id": "776d6891",
   "metadata": {},
   "outputs": [
    {
     "data": {
      "text/plain": [
       "array([[0.75      , 1.        , 0.        ],\n",
       "       [1.        , 0.57462687, 0.18918919],\n",
       "       [0.84375   , 0.        , 0.81081081],\n",
       "       [0.        , 0.79104478, 1.        ]])"
      ]
     },
     "execution_count": 11,
     "metadata": {},
     "output_type": "execute_result"
    }
   ],
   "source": [
    "scaled_data = preprocessor.fit_transform(sample_data)\n",
    "scaled_data"
   ]
  },
  {
   "cell_type": "markdown",
   "id": "7c1185ef",
   "metadata": {},
   "source": [
    "## L1 Normaliztion: Least Absolute Deviations"
   ]
  },
  {
   "cell_type": "code",
   "execution_count": 12,
   "id": "e482fa18",
   "metadata": {},
   "outputs": [
    {
     "data": {
      "text/plain": [
       "array([[ 0.5,  4.5, -1.2],\n",
       "       [ 2.1, -1.2,  0.2],\n",
       "       [ 1.1, -8.9,  4.8],\n",
       "       [-4.3,  1.7,  6.2]])"
      ]
     },
     "execution_count": 12,
     "metadata": {},
     "output_type": "execute_result"
    }
   ],
   "source": [
    "sample_data"
   ]
  },
  {
   "cell_type": "code",
   "execution_count": 13,
   "id": "17a17548",
   "metadata": {},
   "outputs": [
    {
     "data": {
      "text/plain": [
       "array([[ 0.08064516,  0.72580645, -0.19354839],\n",
       "       [ 0.6       , -0.34285714,  0.05714286],\n",
       "       [ 0.07432432, -0.60135135,  0.32432432],\n",
       "       [-0.35245902,  0.13934426,  0.50819672]])"
      ]
     },
     "execution_count": 13,
     "metadata": {},
     "output_type": "execute_result"
    }
   ],
   "source": [
    "L1_normalization_data = preprocessing.normalize(sample_data, norm='l1')\n",
    "L1_normalization_data"
   ]
  },
  {
   "cell_type": "markdown",
   "id": "c2a0b65d",
   "metadata": {},
   "source": [
    "## L2 Normaliztion: Least Squares"
   ]
  },
  {
   "cell_type": "code",
   "execution_count": 14,
   "id": "f42b8118",
   "metadata": {},
   "outputs": [
    {
     "data": {
      "text/plain": [
       "array([[ 0.5,  4.5, -1.2],\n",
       "       [ 2.1, -1.2,  0.2],\n",
       "       [ 1.1, -8.9,  4.8],\n",
       "       [-4.3,  1.7,  6.2]])"
      ]
     },
     "execution_count": 14,
     "metadata": {},
     "output_type": "execute_result"
    }
   ],
   "source": [
    "sample_data"
   ]
  },
  {
   "cell_type": "code",
   "execution_count": 16,
   "id": "aaf38bc7",
   "metadata": {},
   "outputs": [
    {
     "data": {
      "text/plain": [
       "array([[ 0.10674602,  0.96071418, -0.25619045],\n",
       "       [ 0.86528993, -0.49445139,  0.08240856],\n",
       "       [ 0.108145  , -0.87499137,  0.47190546],\n",
       "       [-0.55596218,  0.219799  ,  0.80161989]])"
      ]
     },
     "execution_count": 16,
     "metadata": {},
     "output_type": "execute_result"
    }
   ],
   "source": [
    "L2_normalization_data = preprocessing.normalize(sample_data, norm='l2')\n",
    "L2_normalization_data"
   ]
  },
  {
   "cell_type": "code",
   "execution_count": null,
   "id": "a2129bc0",
   "metadata": {},
   "outputs": [],
   "source": []
  }
 ],
 "metadata": {
  "kernelspec": {
   "display_name": "Python 3 (ipykernel)",
   "language": "python",
   "name": "python3"
  },
  "language_info": {
   "codemirror_mode": {
    "name": "ipython",
    "version": 3
   },
   "file_extension": ".py",
   "mimetype": "text/x-python",
   "name": "python",
   "nbconvert_exporter": "python",
   "pygments_lexer": "ipython3",
   "version": "3.11.4"
  }
 },
 "nbformat": 4,
 "nbformat_minor": 5
}
