{
 "cells": [
  {
   "cell_type": "markdown",
   "id": "4a5039bf",
   "metadata": {},
   "source": [
    "# Bag of Words\n",
    "\n",
    "## Dataset"
   ]
  },
  {
   "cell_type": "code",
   "execution_count": 56,
   "id": "0e4b7446",
   "metadata": {},
   "outputs": [
    {
     "data": {
      "text/plain": [
       "['Linux has been around since the mid-1990s',\n",
       " 'Linux distributions include the linux kernel',\n",
       " 'Linux is one of the most prominent open-source software']"
      ]
     },
     "execution_count": 56,
     "metadata": {},
     "output_type": "execute_result"
    }
   ],
   "source": [
    "corpus = [\n",
    "    'Linux has been around since the mid-1990s',\n",
    "    'Linux distributions include the linux kernel',\n",
    "    'Linux is one of the most prominent open-source software'\n",
    "]\n",
    "\n",
    "corpus"
   ]
  },
  {
   "cell_type": "markdown",
   "id": "7512e358",
   "metadata": {},
   "source": [
    "## Bag of Words model dengan CountVectorizer"
   ]
  },
  {
   "cell_type": "code",
   "execution_count": 57,
   "id": "47b5b86b",
   "metadata": {},
   "outputs": [
    {
     "data": {
      "text/plain": [
       "array([[1, 1, 1, 0, 1, 0, 0, 0, 1, 1, 0, 0, 0, 0, 0, 1, 0, 0, 1, 0, 0, 0,\n",
       "        1, 0, 1, 0, 1, 2, 0, 0, 0, 0, 0, 0, 0, 0, 0, 1, 0, 0, 0, 0, 0, 0,\n",
       "        1, 0, 1, 0, 1, 1, 1, 1, 1, 0, 1, 1, 1]], dtype=int64)"
      ]
     },
     "execution_count": 57,
     "metadata": {},
     "output_type": "execute_result"
    }
   ],
   "source": [
    "from sklearn.feature_extraction.text import CountVectorizer\n",
    "import numpy as np\n",
    "\n",
    "vectorizer = CountVectorizer()\n",
    "vectorized_X = vectorizer.fit_transform(corpus).toarray().reshape(1, -1)\n",
    "vectorized_X"
   ]
  },
  {
   "cell_type": "code",
   "execution_count": 50,
   "id": "d6581e26",
   "metadata": {},
   "outputs": [
    {
     "data": {
      "text/plain": [
       "array([['1990s'],\n",
       "       ['around'],\n",
       "       ['been'],\n",
       "       ['distributions'],\n",
       "       ['has'],\n",
       "       ['include'],\n",
       "       ['is'],\n",
       "       ['kernel'],\n",
       "       ['linux'],\n",
       "       ['mid'],\n",
       "       ['most'],\n",
       "       ['of'],\n",
       "       ['one'],\n",
       "       ['open'],\n",
       "       ['prominent'],\n",
       "       ['since'],\n",
       "       ['software'],\n",
       "       ['source'],\n",
       "       ['the']], dtype=object)"
      ]
     },
     "execution_count": 50,
     "metadata": {},
     "output_type": "execute_result"
    }
   ],
   "source": [
    "vectorizer.get_feature_names_out().reshape(-1, 1)"
   ]
  },
  {
   "cell_type": "markdown",
   "id": "4b9fc875",
   "metadata": {},
   "source": [
    "## Euclidean Distance untuk mengukur kedekatan/jarak antar dokumen(vector)"
   ]
  },
  {
   "cell_type": "code",
   "execution_count": 61,
   "id": "9a09df9f",
   "metadata": {},
   "outputs": [],
   "source": [
    "from sklearn.metrics.pairwise import euclidean_distances\n",
    "\n",
    "for i in range(len(vectorized_X)):\n",
    "    for j in range(i, len(vectorized_X)):\n",
    "        if i == j:\n",
    "            continue\n",
    "        jarak = euclidean_distances(vectorized_X[i], vectorized_X[j])\n",
    "        print(f'Jarak dokumen {i+1} dan {j+1}: {jarak}')"
   ]
  },
  {
   "cell_type": "code",
   "execution_count": 62,
   "id": "a99677bd",
   "metadata": {},
   "outputs": [
    {
     "name": "stdout",
     "output_type": "stream",
     "text": [
      "Jarak dokumen 1 dan 2: 3.1622776601683795\n",
      "Jarak dokumen 1 dan 3: 3.7416573867739413\n",
      "Jarak dokumen 2 dan 3: 3.4641016151377544\n"
     ]
    }
   ],
   "source": [
    "from sklearn.feature_extraction.text import CountVectorizer\n",
    "from sklearn.metrics.pairwise import euclidean_distances\n",
    "import numpy as np\n",
    "\n",
    "# Contoh korpus teks\n",
    "corpus = [\n",
    "    'Linux has been around since the mid-1990s',\n",
    "    'Linux distributions include the linux kernel',\n",
    "    'Linux is one of the most prominent open-source software'\n",
    "]\n",
    "\n",
    "# Membuat objek CountVectorizer\n",
    "vectorizer = CountVectorizer()\n",
    "\n",
    "# Mengubah korpus teks menjadi matriks fitur (2D array)\n",
    "vectorized_X = vectorizer.fit_transform(corpus).toarray()\n",
    "\n",
    "# Menghitung dan mencetak jarak Euclidean antara dokumen\n",
    "for i in range(len(vectorized_X)):\n",
    "    for j in range(i + 1, len(vectorized_X)):  # Menggunakan range(i + 1, ...) untuk menghindari pengulangan\n",
    "        jarak = euclidean_distances([vectorized_X[i]], [vectorized_X[j]])\n",
    "        print(f'Jarak dokumen {i+1} dan {j+1}: {jarak[0][0]}')\n"
   ]
  },
  {
   "cell_type": "code",
   "execution_count": 63,
   "id": "5395537a",
   "metadata": {},
   "outputs": [
    {
     "data": {
      "text/plain": [
       "array([['1990s'],\n",
       "       ['around'],\n",
       "       ['been'],\n",
       "       ['distributions'],\n",
       "       ['has'],\n",
       "       ['include'],\n",
       "       ['is'],\n",
       "       ['kernel'],\n",
       "       ['linux'],\n",
       "       ['mid'],\n",
       "       ['most'],\n",
       "       ['of'],\n",
       "       ['one'],\n",
       "       ['open'],\n",
       "       ['prominent'],\n",
       "       ['since'],\n",
       "       ['software'],\n",
       "       ['source'],\n",
       "       ['the']], dtype=object)"
      ]
     },
     "execution_count": 63,
     "metadata": {},
     "output_type": "execute_result"
    }
   ],
   "source": [
    "vectorizer.get_feature_names_out().reshape(-1, 1)"
   ]
  },
  {
   "cell_type": "markdown",
   "id": "bc544799",
   "metadata": {},
   "source": [
    "## Stop Words Filtering dengan Count Vectorizer"
   ]
  },
  {
   "cell_type": "code",
   "execution_count": 66,
   "id": "4fe56d11",
   "metadata": {},
   "outputs": [
    {
     "data": {
      "text/plain": [
       "matrix([[1, 0, 0, 0, 1, 1, 0, 0, 0, 0],\n",
       "        [0, 1, 1, 1, 2, 0, 0, 0, 0, 0],\n",
       "        [0, 0, 0, 0, 1, 0, 1, 1, 1, 1]], dtype=int64)"
      ]
     },
     "execution_count": 66,
     "metadata": {},
     "output_type": "execute_result"
    }
   ],
   "source": [
    "from sklearn.feature_extraction.text import CountVectorizer\n",
    "\n",
    "vectorizer = CountVectorizer(stop_words='english')\n",
    "vectorized_X = vectorizer.fit_transform(corpus).todense()\n",
    "vectorized_X"
   ]
  },
  {
   "cell_type": "code",
   "execution_count": 67,
   "id": "10d0d876",
   "metadata": {},
   "outputs": [
    {
     "data": {
      "text/plain": [
       "array([['1990s'],\n",
       "       ['distributions'],\n",
       "       ['include'],\n",
       "       ['kernel'],\n",
       "       ['linux'],\n",
       "       ['mid'],\n",
       "       ['open'],\n",
       "       ['prominent'],\n",
       "       ['software'],\n",
       "       ['source']], dtype=object)"
      ]
     },
     "execution_count": 67,
     "metadata": {},
     "output_type": "execute_result"
    }
   ],
   "source": [
    "vectorizer.get_feature_names_out().reshape(-1, 1)"
   ]
  },
  {
   "cell_type": "code",
   "execution_count": null,
   "id": "d124c716",
   "metadata": {},
   "outputs": [],
   "source": []
  }
 ],
 "metadata": {
  "kernelspec": {
   "display_name": "Python 3 (ipykernel)",
   "language": "python",
   "name": "python3"
  },
  "language_info": {
   "codemirror_mode": {
    "name": "ipython",
    "version": 3
   },
   "file_extension": ".py",
   "mimetype": "text/x-python",
   "name": "python",
   "nbconvert_exporter": "python",
   "pygments_lexer": "ipython3",
   "version": "3.11.4"
  }
 },
 "nbformat": 4,
 "nbformat_minor": 5
}
