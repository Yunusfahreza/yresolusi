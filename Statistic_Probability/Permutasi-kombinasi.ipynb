{
 "cells": [
  {
   "cell_type": "code",
   "execution_count": 1,
   "id": "c8bafc4e",
   "metadata": {},
   "outputs": [],
   "source": [
    "import itertools"
   ]
  },
  {
   "cell_type": "code",
   "execution_count": 8,
   "id": "9a3fe984",
   "metadata": {},
   "outputs": [
    {
     "name": "stdout",
     "output_type": "stream",
     "text": [
      "('A', 'B', 'C')\n",
      "('A', 'C', 'B')\n",
      "('B', 'A', 'C')\n",
      "('B', 'C', 'A')\n",
      "('C', 'A', 'B')\n",
      "('C', 'B', 'A')\n"
     ]
    }
   ],
   "source": [
    "# Permutasi Sederhana\n",
    "\n",
    "data = ['A', 'B', 'C']\n",
    "permutasi = itertools.permutations(data)\n",
    "\n",
    "for perm in permutasi:\n",
    "    print(perm)"
   ]
  },
  {
   "cell_type": "code",
   "execution_count": 9,
   "id": "732e9415",
   "metadata": {},
   "outputs": [
    {
     "name": "stdout",
     "output_type": "stream",
     "text": [
      "('A', 'B')\n",
      "('A', 'C')\n",
      "('A', 'D')\n",
      "('B', 'A')\n",
      "('B', 'C')\n",
      "('B', 'D')\n",
      "('C', 'A')\n",
      "('C', 'B')\n",
      "('C', 'D')\n",
      "('D', 'A')\n",
      "('D', 'B')\n",
      "('D', 'C')\n"
     ]
    }
   ],
   "source": [
    "#Permutasi pada sejumlah objek tertentu\n",
    "\n",
    "data1 = ['A', 'B', 'C', 'D']\n",
    "permutasi1 = itertools.permutations(data1, 2)\n",
    "\n",
    "for perm in permutasi1:\n",
    "    print(perm)"
   ]
  },
  {
   "cell_type": "code",
   "execution_count": 12,
   "id": "4e50acc4",
   "metadata": {},
   "outputs": [
    {
     "data": {
      "text/plain": [
       "12"
      ]
     },
     "execution_count": 12,
     "metadata": {},
     "output_type": "execute_result"
    }
   ],
   "source": [
    "# Kalkulasi permutasi\n",
    "\n",
    "permutasi2 = itertools.permutations(range(4), 2)\n",
    "len(tuple(permutasi2))\n"
   ]
  },
  {
   "cell_type": "code",
   "execution_count": 13,
   "id": "f5bd06e1",
   "metadata": {},
   "outputs": [
    {
     "data": {
      "text/plain": [
       "5040"
      ]
     },
     "execution_count": 13,
     "metadata": {},
     "output_type": "execute_result"
    }
   ],
   "source": [
    "permutasi2 = itertools.permutations(range(10), 4)\n",
    "len(tuple(permutasi2))"
   ]
  },
  {
   "cell_type": "code",
   "execution_count": 14,
   "id": "407cd5c4",
   "metadata": {},
   "outputs": [
    {
     "data": {
      "text/plain": [
       "74046"
      ]
     },
     "execution_count": 14,
     "metadata": {},
     "output_type": "execute_result"
    }
   ],
   "source": [
    "permutasi2 = itertools.permutations(range(43), 3)\n",
    "len(tuple(permutasi2))"
   ]
  },
  {
   "cell_type": "code",
   "execution_count": 16,
   "id": "8de4da2d",
   "metadata": {},
   "outputs": [
    {
     "name": "stdout",
     "output_type": "stream",
     "text": [
      "('A', 'B', 'C')\n",
      "('A', 'B', 'D')\n",
      "('A', 'B', 'E')\n",
      "('A', 'C', 'D')\n",
      "('A', 'C', 'E')\n",
      "('A', 'D', 'E')\n",
      "('B', 'C', 'D')\n",
      "('B', 'C', 'E')\n",
      "('B', 'D', 'E')\n",
      "('C', 'D', 'E')\n"
     ]
    }
   ],
   "source": [
    "# Kombinasi sederhana\n",
    "\n",
    "data2 = ['A', 'B', 'C', 'D', 'E']\n",
    "kombinasi = itertools.combinations(data2, 3)\n",
    "\n",
    "for comb in kombinasi:\n",
    "    print(comb)"
   ]
  },
  {
   "cell_type": "code",
   "execution_count": 17,
   "id": "7ff1b200",
   "metadata": {},
   "outputs": [
    {
     "data": {
      "text/plain": [
       "10"
      ]
     },
     "execution_count": 17,
     "metadata": {},
     "output_type": "execute_result"
    }
   ],
   "source": [
    "# Kalkulasi kombinasi\n",
    "\n",
    "kombinasi2 = itertools.combinations(range(5), 3)\n",
    "len(tuple(kombinasi2))\n"
   ]
  },
  {
   "cell_type": "code",
   "execution_count": 18,
   "id": "158b1c48",
   "metadata": {},
   "outputs": [
    {
     "data": {
      "text/plain": [
       "1820"
      ]
     },
     "execution_count": 18,
     "metadata": {},
     "output_type": "execute_result"
    }
   ],
   "source": [
    "kombinasi2 = itertools.combinations(range(16), 4)\n",
    "len(tuple(kombinasi2))"
   ]
  },
  {
   "cell_type": "code",
   "execution_count": null,
   "id": "435606b7",
   "metadata": {},
   "outputs": [],
   "source": []
  }
 ],
 "metadata": {
  "kernelspec": {
   "display_name": "Python 3 (ipykernel)",
   "language": "python",
   "name": "python3"
  },
  "language_info": {
   "codemirror_mode": {
    "name": "ipython",
    "version": 3
   },
   "file_extension": ".py",
   "mimetype": "text/x-python",
   "name": "python",
   "nbconvert_exporter": "python",
   "pygments_lexer": "ipython3",
   "version": "3.11.4"
  }
 },
 "nbformat": 4,
 "nbformat_minor": 5
}
