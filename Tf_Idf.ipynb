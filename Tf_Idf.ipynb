{
  "nbformat": 4,
  "nbformat_minor": 0,
  "metadata": {
    "colab": {
      "provenance": [],
      "authorship_tag": "ABX9TyNsYzrR/KnadoevFQ38zvl3",
      "include_colab_link": true
    },
    "kernelspec": {
      "name": "python3",
      "display_name": "Python 3"
    },
    "language_info": {
      "name": "python"
    }
  },
  "cells": [
    {
      "cell_type": "markdown",
      "metadata": {
        "id": "view-in-github",
        "colab_type": "text"
      },
      "source": [
        "<a href=\"https://colab.research.google.com/github/Yunusfahreza/yresolusi/blob/main/Tf_Idf.ipynb\" target=\"_parent\"><img src=\"https://colab.research.google.com/assets/colab-badge.svg\" alt=\"Open In Colab\"/></a>"
      ]
    },
    {
      "cell_type": "code",
      "execution_count": null,
      "metadata": {
        "colab": {
          "base_uri": "https://localhost:8080/"
        },
        "id": "kW5u2lvJnjl8",
        "outputId": "38bcc211-39a9-47a4-f0fd-84f7fab96fd5"
      },
      "outputs": [
        {
          "output_type": "stream",
          "name": "stdout",
          "text": [
            "Requirement already satisfied: spacy==3.* in /usr/local/lib/python3.10/dist-packages (3.7.4)\n",
            "Requirement already satisfied: spacy-legacy<3.1.0,>=3.0.11 in /usr/local/lib/python3.10/dist-packages (from spacy==3.*) (3.0.12)\n",
            "Requirement already satisfied: spacy-loggers<2.0.0,>=1.0.0 in /usr/local/lib/python3.10/dist-packages (from spacy==3.*) (1.0.5)\n",
            "Requirement already satisfied: murmurhash<1.1.0,>=0.28.0 in /usr/local/lib/python3.10/dist-packages (from spacy==3.*) (1.0.10)\n",
            "Requirement already satisfied: cymem<2.1.0,>=2.0.2 in /usr/local/lib/python3.10/dist-packages (from spacy==3.*) (2.0.8)\n",
            "Requirement already satisfied: preshed<3.1.0,>=3.0.2 in /usr/local/lib/python3.10/dist-packages (from spacy==3.*) (3.0.9)\n",
            "Requirement already satisfied: thinc<8.3.0,>=8.2.2 in /usr/local/lib/python3.10/dist-packages (from spacy==3.*) (8.2.3)\n",
            "Requirement already satisfied: wasabi<1.2.0,>=0.9.1 in /usr/local/lib/python3.10/dist-packages (from spacy==3.*) (1.1.2)\n",
            "Requirement already satisfied: srsly<3.0.0,>=2.4.3 in /usr/local/lib/python3.10/dist-packages (from spacy==3.*) (2.4.8)\n",
            "Requirement already satisfied: catalogue<2.1.0,>=2.0.6 in /usr/local/lib/python3.10/dist-packages (from spacy==3.*) (2.0.10)\n",
            "Requirement already satisfied: weasel<0.4.0,>=0.1.0 in /usr/local/lib/python3.10/dist-packages (from spacy==3.*) (0.3.4)\n",
            "Requirement already satisfied: typer<0.10.0,>=0.3.0 in /usr/local/lib/python3.10/dist-packages (from spacy==3.*) (0.9.4)\n",
            "Requirement already satisfied: smart-open<7.0.0,>=5.2.1 in /usr/local/lib/python3.10/dist-packages (from spacy==3.*) (6.4.0)\n",
            "Requirement already satisfied: tqdm<5.0.0,>=4.38.0 in /usr/local/lib/python3.10/dist-packages (from spacy==3.*) (4.66.2)\n",
            "Requirement already satisfied: requests<3.0.0,>=2.13.0 in /usr/local/lib/python3.10/dist-packages (from spacy==3.*) (2.31.0)\n",
            "Requirement already satisfied: pydantic!=1.8,!=1.8.1,<3.0.0,>=1.7.4 in /usr/local/lib/python3.10/dist-packages (from spacy==3.*) (2.6.4)\n",
            "Requirement already satisfied: jinja2 in /usr/local/lib/python3.10/dist-packages (from spacy==3.*) (3.1.3)\n",
            "Requirement already satisfied: setuptools in /usr/local/lib/python3.10/dist-packages (from spacy==3.*) (67.7.2)\n",
            "Requirement already satisfied: packaging>=20.0 in /usr/local/lib/python3.10/dist-packages (from spacy==3.*) (24.0)\n",
            "Requirement already satisfied: langcodes<4.0.0,>=3.2.0 in /usr/local/lib/python3.10/dist-packages (from spacy==3.*) (3.3.0)\n",
            "Requirement already satisfied: numpy>=1.19.0 in /usr/local/lib/python3.10/dist-packages (from spacy==3.*) (1.25.2)\n",
            "Requirement already satisfied: annotated-types>=0.4.0 in /usr/local/lib/python3.10/dist-packages (from pydantic!=1.8,!=1.8.1,<3.0.0,>=1.7.4->spacy==3.*) (0.6.0)\n",
            "Requirement already satisfied: pydantic-core==2.16.3 in /usr/local/lib/python3.10/dist-packages (from pydantic!=1.8,!=1.8.1,<3.0.0,>=1.7.4->spacy==3.*) (2.16.3)\n",
            "Requirement already satisfied: typing-extensions>=4.6.1 in /usr/local/lib/python3.10/dist-packages (from pydantic!=1.8,!=1.8.1,<3.0.0,>=1.7.4->spacy==3.*) (4.11.0)\n",
            "Requirement already satisfied: charset-normalizer<4,>=2 in /usr/local/lib/python3.10/dist-packages (from requests<3.0.0,>=2.13.0->spacy==3.*) (3.3.2)\n",
            "Requirement already satisfied: idna<4,>=2.5 in /usr/local/lib/python3.10/dist-packages (from requests<3.0.0,>=2.13.0->spacy==3.*) (3.6)\n",
            "Requirement already satisfied: urllib3<3,>=1.21.1 in /usr/local/lib/python3.10/dist-packages (from requests<3.0.0,>=2.13.0->spacy==3.*) (2.0.7)\n",
            "Requirement already satisfied: certifi>=2017.4.17 in /usr/local/lib/python3.10/dist-packages (from requests<3.0.0,>=2.13.0->spacy==3.*) (2024.2.2)\n",
            "Requirement already satisfied: blis<0.8.0,>=0.7.8 in /usr/local/lib/python3.10/dist-packages (from thinc<8.3.0,>=8.2.2->spacy==3.*) (0.7.11)\n",
            "Requirement already satisfied: confection<1.0.0,>=0.0.1 in /usr/local/lib/python3.10/dist-packages (from thinc<8.3.0,>=8.2.2->spacy==3.*) (0.1.4)\n",
            "Requirement already satisfied: click<9.0.0,>=7.1.1 in /usr/local/lib/python3.10/dist-packages (from typer<0.10.0,>=0.3.0->spacy==3.*) (8.1.7)\n",
            "Requirement already satisfied: cloudpathlib<0.17.0,>=0.7.0 in /usr/local/lib/python3.10/dist-packages (from weasel<0.4.0,>=0.1.0->spacy==3.*) (0.16.0)\n",
            "Requirement already satisfied: MarkupSafe>=2.0 in /usr/local/lib/python3.10/dist-packages (from jinja2->spacy==3.*) (2.1.5)\n",
            "Collecting en-core-web-sm==3.7.1\n",
            "  Downloading https://github.com/explosion/spacy-models/releases/download/en_core_web_sm-3.7.1/en_core_web_sm-3.7.1-py3-none-any.whl (12.8 MB)\n",
            "\u001b[2K     \u001b[90m━━━━━━━━━━━━━━━━━━━━━━━━━━━━━━━━━━━━━━━━\u001b[0m \u001b[32m12.8/12.8 MB\u001b[0m \u001b[31m36.2 MB/s\u001b[0m eta \u001b[36m0:00:00\u001b[0m\n",
            "\u001b[?25hRequirement already satisfied: spacy<3.8.0,>=3.7.2 in /usr/local/lib/python3.10/dist-packages (from en-core-web-sm==3.7.1) (3.7.4)\n",
            "Requirement already satisfied: spacy-legacy<3.1.0,>=3.0.11 in /usr/local/lib/python3.10/dist-packages (from spacy<3.8.0,>=3.7.2->en-core-web-sm==3.7.1) (3.0.12)\n",
            "Requirement already satisfied: spacy-loggers<2.0.0,>=1.0.0 in /usr/local/lib/python3.10/dist-packages (from spacy<3.8.0,>=3.7.2->en-core-web-sm==3.7.1) (1.0.5)\n",
            "Requirement already satisfied: murmurhash<1.1.0,>=0.28.0 in /usr/local/lib/python3.10/dist-packages (from spacy<3.8.0,>=3.7.2->en-core-web-sm==3.7.1) (1.0.10)\n",
            "Requirement already satisfied: cymem<2.1.0,>=2.0.2 in /usr/local/lib/python3.10/dist-packages (from spacy<3.8.0,>=3.7.2->en-core-web-sm==3.7.1) (2.0.8)\n",
            "Requirement already satisfied: preshed<3.1.0,>=3.0.2 in /usr/local/lib/python3.10/dist-packages (from spacy<3.8.0,>=3.7.2->en-core-web-sm==3.7.1) (3.0.9)\n",
            "Requirement already satisfied: thinc<8.3.0,>=8.2.2 in /usr/local/lib/python3.10/dist-packages (from spacy<3.8.0,>=3.7.2->en-core-web-sm==3.7.1) (8.2.3)\n",
            "Requirement already satisfied: wasabi<1.2.0,>=0.9.1 in /usr/local/lib/python3.10/dist-packages (from spacy<3.8.0,>=3.7.2->en-core-web-sm==3.7.1) (1.1.2)\n",
            "Requirement already satisfied: srsly<3.0.0,>=2.4.3 in /usr/local/lib/python3.10/dist-packages (from spacy<3.8.0,>=3.7.2->en-core-web-sm==3.7.1) (2.4.8)\n",
            "Requirement already satisfied: catalogue<2.1.0,>=2.0.6 in /usr/local/lib/python3.10/dist-packages (from spacy<3.8.0,>=3.7.2->en-core-web-sm==3.7.1) (2.0.10)\n",
            "Requirement already satisfied: weasel<0.4.0,>=0.1.0 in /usr/local/lib/python3.10/dist-packages (from spacy<3.8.0,>=3.7.2->en-core-web-sm==3.7.1) (0.3.4)\n",
            "Requirement already satisfied: typer<0.10.0,>=0.3.0 in /usr/local/lib/python3.10/dist-packages (from spacy<3.8.0,>=3.7.2->en-core-web-sm==3.7.1) (0.9.4)\n",
            "Requirement already satisfied: smart-open<7.0.0,>=5.2.1 in /usr/local/lib/python3.10/dist-packages (from spacy<3.8.0,>=3.7.2->en-core-web-sm==3.7.1) (6.4.0)\n",
            "Requirement already satisfied: tqdm<5.0.0,>=4.38.0 in /usr/local/lib/python3.10/dist-packages (from spacy<3.8.0,>=3.7.2->en-core-web-sm==3.7.1) (4.66.2)\n",
            "Requirement already satisfied: requests<3.0.0,>=2.13.0 in /usr/local/lib/python3.10/dist-packages (from spacy<3.8.0,>=3.7.2->en-core-web-sm==3.7.1) (2.31.0)\n",
            "Requirement already satisfied: pydantic!=1.8,!=1.8.1,<3.0.0,>=1.7.4 in /usr/local/lib/python3.10/dist-packages (from spacy<3.8.0,>=3.7.2->en-core-web-sm==3.7.1) (2.6.4)\n",
            "Requirement already satisfied: jinja2 in /usr/local/lib/python3.10/dist-packages (from spacy<3.8.0,>=3.7.2->en-core-web-sm==3.7.1) (3.1.3)\n",
            "Requirement already satisfied: setuptools in /usr/local/lib/python3.10/dist-packages (from spacy<3.8.0,>=3.7.2->en-core-web-sm==3.7.1) (67.7.2)\n",
            "Requirement already satisfied: packaging>=20.0 in /usr/local/lib/python3.10/dist-packages (from spacy<3.8.0,>=3.7.2->en-core-web-sm==3.7.1) (24.0)\n",
            "Requirement already satisfied: langcodes<4.0.0,>=3.2.0 in /usr/local/lib/python3.10/dist-packages (from spacy<3.8.0,>=3.7.2->en-core-web-sm==3.7.1) (3.3.0)\n",
            "Requirement already satisfied: numpy>=1.19.0 in /usr/local/lib/python3.10/dist-packages (from spacy<3.8.0,>=3.7.2->en-core-web-sm==3.7.1) (1.25.2)\n",
            "Requirement already satisfied: annotated-types>=0.4.0 in /usr/local/lib/python3.10/dist-packages (from pydantic!=1.8,!=1.8.1,<3.0.0,>=1.7.4->spacy<3.8.0,>=3.7.2->en-core-web-sm==3.7.1) (0.6.0)\n",
            "Requirement already satisfied: pydantic-core==2.16.3 in /usr/local/lib/python3.10/dist-packages (from pydantic!=1.8,!=1.8.1,<3.0.0,>=1.7.4->spacy<3.8.0,>=3.7.2->en-core-web-sm==3.7.1) (2.16.3)\n",
            "Requirement already satisfied: typing-extensions>=4.6.1 in /usr/local/lib/python3.10/dist-packages (from pydantic!=1.8,!=1.8.1,<3.0.0,>=1.7.4->spacy<3.8.0,>=3.7.2->en-core-web-sm==3.7.1) (4.11.0)\n",
            "Requirement already satisfied: charset-normalizer<4,>=2 in /usr/local/lib/python3.10/dist-packages (from requests<3.0.0,>=2.13.0->spacy<3.8.0,>=3.7.2->en-core-web-sm==3.7.1) (3.3.2)\n",
            "Requirement already satisfied: idna<4,>=2.5 in /usr/local/lib/python3.10/dist-packages (from requests<3.0.0,>=2.13.0->spacy<3.8.0,>=3.7.2->en-core-web-sm==3.7.1) (3.6)\n",
            "Requirement already satisfied: urllib3<3,>=1.21.1 in /usr/local/lib/python3.10/dist-packages (from requests<3.0.0,>=2.13.0->spacy<3.8.0,>=3.7.2->en-core-web-sm==3.7.1) (2.0.7)\n",
            "Requirement already satisfied: certifi>=2017.4.17 in /usr/local/lib/python3.10/dist-packages (from requests<3.0.0,>=2.13.0->spacy<3.8.0,>=3.7.2->en-core-web-sm==3.7.1) (2024.2.2)\n",
            "Requirement already satisfied: blis<0.8.0,>=0.7.8 in /usr/local/lib/python3.10/dist-packages (from thinc<8.3.0,>=8.2.2->spacy<3.8.0,>=3.7.2->en-core-web-sm==3.7.1) (0.7.11)\n",
            "Requirement already satisfied: confection<1.0.0,>=0.0.1 in /usr/local/lib/python3.10/dist-packages (from thinc<8.3.0,>=8.2.2->spacy<3.8.0,>=3.7.2->en-core-web-sm==3.7.1) (0.1.4)\n",
            "Requirement already satisfied: click<9.0.0,>=7.1.1 in /usr/local/lib/python3.10/dist-packages (from typer<0.10.0,>=0.3.0->spacy<3.8.0,>=3.7.2->en-core-web-sm==3.7.1) (8.1.7)\n",
            "Requirement already satisfied: cloudpathlib<0.17.0,>=0.7.0 in /usr/local/lib/python3.10/dist-packages (from weasel<0.4.0,>=0.1.0->spacy<3.8.0,>=3.7.2->en-core-web-sm==3.7.1) (0.16.0)\n",
            "Requirement already satisfied: MarkupSafe>=2.0 in /usr/local/lib/python3.10/dist-packages (from jinja2->spacy<3.8.0,>=3.7.2->en-core-web-sm==3.7.1) (2.1.5)\n",
            "\u001b[38;5;2m✔ Download and installation successful\u001b[0m\n",
            "You can now load the package via spacy.load('en_core_web_sm')\n",
            "\u001b[38;5;3m⚠ Restart to reload dependencies\u001b[0m\n",
            "If you are in a Jupyter or Colab notebook, you may need to restart Python in\n",
            "order to load all the package's dependencies. You can do this by selecting the\n",
            "'Restart kernel' or 'Restart runtime' option.\n",
            "\u001b[1m\n",
            "============================== Info about spaCy ==============================\u001b[0m\n",
            "\n",
            "spaCy version    3.7.4                         \n",
            "Location         /usr/local/lib/python3.10/dist-packages/spacy\n",
            "Platform         Linux-6.1.58+-x86_64-with-glibc2.35\n",
            "Python version   3.10.12                       \n",
            "Pipelines        en_core_web_sm (3.7.1)        \n",
            "\n"
          ]
        }
      ],
      "source": [
        "!pip install -U spacy==3.*\n",
        "!python -m spacy download en_core_web_sm\n",
        "!python -m spacy info"
      ]
    },
    {
      "cell_type": "code",
      "source": [
        "import spacy\n",
        "\n",
        "from sklearn.datasets import fetch_20newsgroups\n",
        "from sklearn.feature_extraction.text import TfidfVectorizer\n",
        "from sklearn.metrics.pairwise import cosine_similarity"
      ],
      "metadata": {
        "id": "MqL19w-mnl9O"
      },
      "execution_count": null,
      "outputs": []
    },
    {
      "cell_type": "code",
      "source": [
        "# Fetching Datasets\n",
        "\n",
        "corpus = fetch_20newsgroups(categories=['sci.space'],\n",
        "                            remove=('headers', 'footers', 'quotes'))"
      ],
      "metadata": {
        "id": "7C65bKIunySj"
      },
      "execution_count": null,
      "outputs": []
    },
    {
      "cell_type": "code",
      "source": [
        "print(type(corpus))"
      ],
      "metadata": {
        "colab": {
          "base_uri": "https://localhost:8080/"
        },
        "id": "DXzKcqCCn9kt",
        "outputId": "5f603403-ead4-495b-99fd-5df528f5f4a5"
      },
      "execution_count": null,
      "outputs": [
        {
          "output_type": "stream",
          "name": "stdout",
          "text": [
            "<class 'sklearn.utils._bunch.Bunch'>\n"
          ]
        }
      ]
    },
    {
      "cell_type": "code",
      "source": [
        "# Number of posts in our dataset.\n",
        "len(corpus.data)"
      ],
      "metadata": {
        "colab": {
          "base_uri": "https://localhost:8080/"
        },
        "id": "nWbB9-eqoCim",
        "outputId": "e69a6e4c-31ab-4fdd-9e2a-e83741720d19"
      },
      "execution_count": null,
      "outputs": [
        {
          "output_type": "execute_result",
          "data": {
            "text/plain": [
              "593"
            ]
          },
          "metadata": {},
          "execution_count": 5
        }
      ]
    },
    {
      "cell_type": "code",
      "source": [
        "# View first two posts.\n",
        "corpus.data[:2]"
      ],
      "metadata": {
        "colab": {
          "base_uri": "https://localhost:8080/"
        },
        "id": "Gl9J44XSoEw6",
        "outputId": "e51032f1-8921-4d33-9516-aa7638fa049d"
      },
      "execution_count": null,
      "outputs": [
        {
          "output_type": "execute_result",
          "data": {
            "text/plain": [
              "[\"\\nAny lunar satellite needs fuel to do regular orbit corrections, and when\\nits fuel runs out it will crash within months.  The orbits of the Apollo\\nmotherships changed noticeably during lunar missions lasting only a few\\ndays.  It is *possible* that there are stable orbits here and there --\\nthe Moon's gravitational field is poorly mapped -- but we know of none.\\n\\nPerturbations from Sun and Earth are relatively minor issues at low\\naltitudes.  The big problem is that the Moon's own gravitational field\\nis quite lumpy due to the irregular distribution of mass within the Moon.\",\n",
              " '\\nGlad to see Griffin is spending his time on engineering rather than on\\nritual purification of the language.  Pity he got stuck with the turkey\\nrather than one of the sensible options.']"
            ]
          },
          "metadata": {},
          "execution_count": 6
        }
      ]
    },
    {
      "cell_type": "code",
      "source": [
        "# Creating Tf-Idf Features\n",
        "\n",
        "# Like before, if we want to use spaCy's tokenizer, we need\n",
        "# to create a callback. Remember to upgrade spaCy if you need\n",
        "# to (refer to beginnning of file for commentary and instructions).\n",
        "nlp = spacy.load('en_core_web_sm')\n",
        "\n",
        "# We don't need named-entity recognition nor dependency parsing for\n",
        "# this so these components are disabled. This will speed up the\n",
        "# pipeline. We do need part-of-speech tagging however.\n",
        "unwanted_pipes = [\"ner\", \"parser\"]\n",
        "\n",
        "# For this exercise, we'll remove punctuation and spaces (which\n",
        "# includes newlines), filter for tokens consisting of alphabetic\n",
        "# characters, and return the lemma (which require POS tagging).\n",
        "def spacy_tokenizer(doc):\n",
        "  with nlp.disable_pipes(*unwanted_pipes):\n",
        "    return [t.lemma_ for t in nlp(doc) if \\\n",
        "            not t.is_punct and \\\n",
        "            not t.is_space and \\\n",
        "            t.is_alpha]"
      ],
      "metadata": {
        "id": "EU2zA6r6oGrh"
      },
      "execution_count": null,
      "outputs": []
    },
    {
      "cell_type": "code",
      "source": [
        "%%time\n",
        "# Use the default settings of TfidfVectorizer.\n",
        "vectorizer = TfidfVectorizer(tokenizer=spacy_tokenizer)\n",
        "features = vectorizer.fit_transform(corpus.data)"
      ],
      "metadata": {
        "colab": {
          "base_uri": "https://localhost:8080/"
        },
        "id": "_gGytro4oRnN",
        "outputId": "133296b0-c627-40cf-f04b-ff57362bfc27"
      },
      "execution_count": null,
      "outputs": [
        {
          "output_type": "stream",
          "name": "stderr",
          "text": [
            "/usr/local/lib/python3.10/dist-packages/sklearn/feature_extraction/text.py:528: UserWarning: The parameter 'token_pattern' will not be used since 'tokenizer' is not None'\n",
            "  warnings.warn(\n"
          ]
        },
        {
          "output_type": "stream",
          "name": "stdout",
          "text": [
            "CPU times: user 19.2 s, sys: 442 ms, total: 19.6 s\n",
            "Wall time: 24.4 s\n"
          ]
        }
      ]
    },
    {
      "cell_type": "code",
      "source": [
        "# The number of unique tokens.\n",
        "print(len(vectorizer.get_feature_names_out()))"
      ],
      "metadata": {
        "colab": {
          "base_uri": "https://localhost:8080/"
        },
        "id": "fsIOI-w3oXPY",
        "outputId": "42a34e60-a902-4b7f-efae-c2f3f198ae95"
      },
      "execution_count": null,
      "outputs": [
        {
          "output_type": "stream",
          "name": "stdout",
          "text": [
            "9440\n"
          ]
        }
      ]
    },
    {
      "cell_type": "code",
      "source": [
        "# The dimensions of our feature matrix. X rows (documents) by Y columns (tokens).\n",
        "print(features.shape)"
      ],
      "metadata": {
        "colab": {
          "base_uri": "https://localhost:8080/"
        },
        "id": "3UHUZONmoe1c",
        "outputId": "31912cd3-b4f2-468d-d8f7-78abde6b270a"
      },
      "execution_count": null,
      "outputs": [
        {
          "output_type": "stream",
          "name": "stdout",
          "text": [
            "(593, 9440)\n"
          ]
        }
      ]
    },
    {
      "cell_type": "code",
      "source": [
        "# What the encoding of the first document looks like in sparse format.\n",
        "print(features[0])"
      ],
      "metadata": {
        "colab": {
          "base_uri": "https://localhost:8080/"
        },
        "id": "xgbXmSx4ojB_",
        "outputId": "5dc05b06-96cc-480f-a8fd-2cb27bb20cb1"
      },
      "execution_count": null,
      "outputs": [
        {
          "output_type": "stream",
          "name": "stdout",
          "text": [
            "  (0, 5064)\t0.10452754121963853\n",
            "  (0, 2351)\t0.12747025764625855\n",
            "  (0, 4340)\t0.15331700873692364\n",
            "  (0, 2459)\t0.10862435105627101\n",
            "  (0, 4916)\t0.17102715751031994\n",
            "  (0, 6702)\t0.09940033595823265\n",
            "  (0, 5982)\t0.10183554382071024\n",
            "  (0, 6514)\t0.08455482269873241\n",
            "  (0, 896)\t0.0892999596249832\n",
            "  (0, 316)\t0.1109487112663238\n",
            "  (0, 4896)\t0.08247641364333849\n",
            "  (0, 628)\t0.051044670776703174\n",
            "  (0, 4368)\t0.10270174012167517\n",
            "  (0, 5274)\t0.13259746290766442\n",
            "  (0, 6908)\t0.12524708704889775\n",
            "  (0, 2494)\t0.07376562213268434\n",
            "  (0, 8105)\t0.09513204666042695\n",
            "  (0, 3287)\t0.051874685324429695\n",
            "  (0, 6181)\t0.1390186329543497\n",
            "  (0, 5652)\t0.11219531673533985\n",
            "  (0, 4589)\t0.06321728493925476\n",
            "  (0, 9158)\t0.06158004812009137\n",
            "  (0, 1141)\t0.048918909156680825\n",
            "  (0, 5023)\t0.12320196834845284\n",
            "  (0, 6354)\t0.15331700873692364\n",
            "  :\t:\n",
            "  (0, 1344)\t0.09036471134545682\n",
            "  (0, 5403)\t0.17102715751031994\n",
            "  (0, 451)\t0.10452754121963853\n",
            "  (0, 5790)\t0.0991335109087398\n",
            "  (0, 8368)\t0.20402991671500817\n",
            "  (0, 5377)\t0.10099775257415368\n",
            "  (0, 9288)\t0.19295422430071502\n",
            "  (0, 1901)\t0.13560685996352737\n",
            "  (0, 9251)\t0.059876060572569896\n",
            "  (0, 4372)\t0.07654889960067542\n",
            "  (0, 5938)\t0.06437012757347277\n",
            "  (0, 7214)\t0.09717716536087184\n",
            "  (0, 4381)\t0.07522603925785983\n",
            "  (0, 9214)\t0.07158981085158692\n",
            "  (0, 371)\t0.10544208975368659\n",
            "  (0, 1846)\t0.13560685996352737\n",
            "  (0, 5882)\t0.21555560387140033\n",
            "  (0, 6885)\t0.13560685996352737\n",
            "  (0, 2372)\t0.04343313069714861\n",
            "  (0, 8491)\t0.06551548062794398\n",
            "  (0, 3300)\t0.1988006719164653\n",
            "  (0, 5546)\t0.07463181843364929\n",
            "  (0, 7281)\t0.08827780957141772\n",
            "  (0, 4918)\t0.17756754701430466\n",
            "  (0, 426)\t0.07007152202826399\n"
          ]
        }
      ]
    },
    {
      "cell_type": "code",
      "source": [
        "# Querying The Data\n",
        "\n",
        "# Transform the query into a TF-IDF vector.\n",
        "query = [\"lunar orbit\"]\n",
        "query_tfidf = vectorizer.transform(query)"
      ],
      "metadata": {
        "id": "a2n6IsneolSb"
      },
      "execution_count": null,
      "outputs": []
    },
    {
      "cell_type": "code",
      "source": [
        "# Calculate the cosine similarities between the query and each document.\n",
        "# We're calling flatten() here becaue cosine_similarity returns a list\n",
        "# of lists and we just want a single list.\n",
        "cosine_similarities = cosine_similarity(features, query_tfidf).flatten()"
      ],
      "metadata": {
        "id": "n8hl0aC1otSH"
      },
      "execution_count": null,
      "outputs": []
    },
    {
      "cell_type": "code",
      "source": [
        "import numpy as np\n",
        "\n",
        "# numpy's argsort() method returns a list of *indices* that\n",
        "# would sort an array:\n",
        "# https://numpy.org/doc/stable/reference/generated/numpy.argsort.html\n",
        "#\n",
        "# The sort is ascending, but we want the largest k cosine_similarites\n",
        "# at the bottom of the sort. So we negate k, and get the last k\n",
        "# entries of the indices list in reverse order. There are faster\n",
        "# ways to do this using things like argpartition but this is\n",
        "# more succinct.\n",
        "def top_k(arr, k):\n",
        "  kth_largest = (k + 1) * -1\n",
        "  return np.argsort(arr)[:kth_largest:-1]"
      ],
      "metadata": {
        "id": "PC2u5Xiyoy_A"
      },
      "execution_count": null,
      "outputs": []
    },
    {
      "cell_type": "code",
      "source": [
        "# So for our query above, these are the top five documents.\n",
        "top_related_indices = top_k(cosine_similarities, 5)\n",
        "print(top_related_indices)"
      ],
      "metadata": {
        "colab": {
          "base_uri": "https://localhost:8080/"
        },
        "id": "OiQWWr_co5Xa",
        "outputId": "44684c9d-19e7-422b-d39f-5287c1605477"
      },
      "execution_count": null,
      "outputs": [
        {
          "output_type": "stream",
          "name": "stdout",
          "text": [
            "[249 108   0 312 509]\n"
          ]
        }
      ]
    },
    {
      "cell_type": "code",
      "source": [
        "# Let's take a look at their respective cosine similarities.\n",
        "print(cosine_similarities[top_related_indices])"
      ],
      "metadata": {
        "colab": {
          "base_uri": "https://localhost:8080/"
        },
        "id": "A0YCPDP5o8g0",
        "outputId": "91083451-1b37-4741-91d6-f20212919bf3"
      },
      "execution_count": null,
      "outputs": [
        {
          "output_type": "stream",
          "name": "stdout",
          "text": [
            "[0.47855355 0.4292246  0.2736328  0.19486489 0.19125175]\n"
          ]
        }
      ]
    },
    {
      "cell_type": "code",
      "source": [
        "# Top match.\n",
        "print(corpus.data[top_related_indices[0]])"
      ],
      "metadata": {
        "colab": {
          "base_uri": "https://localhost:8080/"
        },
        "id": "wCsDQ7oXo_IA",
        "outputId": "f2d967e9-efd8-411d-c135-253f933a6340"
      },
      "execution_count": null,
      "outputs": [
        {
          "output_type": "stream",
          "name": "stdout",
          "text": [
            "\n",
            "Actually, Hiten wasn't originally intended to go into lunar orbit at all,\n",
            "so it indeed didn't have much fuel on hand.  The lunar-orbit mission was\n",
            "an afterthought, after Hagoromo (a tiny subsatellite deployed by Hiten\n",
            "during a lunar flyby) had a transmitter failure and its proper insertion\n",
            "into lunar orbit couldn't be positively confirmed.\n",
            "\n",
            "It should be noted that the technique does have disadvantages.  It takes\n",
            "a long time, and you end up with a relatively inconvenient lunar orbit.\n",
            "If you want something useful like a low circular polar orbit, you do have\n",
            "to plan to expend a certain amount of fuel, although it is reduced from\n",
            "what you'd need for the brute-force approach.\n"
          ]
        }
      ]
    },
    {
      "cell_type": "code",
      "source": [
        "# Second-best match.\n",
        "print(corpus.data[top_related_indices[1]])"
      ],
      "metadata": {
        "colab": {
          "base_uri": "https://localhost:8080/"
        },
        "id": "sDc1zoX-pBSK",
        "outputId": "2acfae1b-4d0b-4622-ad24-013d0327b9d4"
      },
      "execution_count": null,
      "outputs": [
        {
          "output_type": "stream",
          "name": "stdout",
          "text": [
            "\n",
            "Their Hiten engineering-test mission spent a while in a highly eccentric\n",
            "Earth orbit doing lunar flybys, and then was inserted into lunar orbit\n",
            "using some very tricky gravity-assist-like maneuvering.  This meant that\n",
            "it would crash on the Moon eventually, since there is no such thing as\n",
            "a stable lunar orbit (as far as anyone knows), and I believe I recall\n",
            "hearing recently that it was about to happen.\n"
          ]
        }
      ]
    },
    {
      "cell_type": "code",
      "source": [
        "# Try a different query\n",
        "query = [\"satellite\"]\n",
        "query_tfidf = vectorizer.transform(query)\n",
        "\n",
        "cosine_similarities = cosine_similarity(features, query_tfidf).flatten()\n",
        "top_related_indices = top_k(cosine_similarities, 5)\n",
        "\n",
        "print(top_related_indices)\n",
        "print(cosine_similarities[top_related_indices])"
      ],
      "metadata": {
        "colab": {
          "base_uri": "https://localhost:8080/"
        },
        "id": "ncMkPGsqpECG",
        "outputId": "d10f0bfb-5c6a-44cd-9b98-9d63153953ed"
      },
      "execution_count": null,
      "outputs": [
        {
          "output_type": "stream",
          "name": "stdout",
          "text": [
            "[378 138 248 539  61]\n",
            "[0.39068985 0.34073761 0.29838056 0.26242297 0.25695438]\n"
          ]
        }
      ]
    },
    {
      "cell_type": "code",
      "source": [
        "print(corpus.data[top_related_indices[0]])"
      ],
      "metadata": {
        "colab": {
          "base_uri": "https://localhost:8080/"
        },
        "id": "8DUPdTqepHOF",
        "outputId": "7a67a6df-c5f5-4e96-b99f-ed4a60d762ae"
      },
      "execution_count": null,
      "outputs": [
        {
          "output_type": "stream",
          "name": "stdout",
          "text": [
            "\n",
            "\n",
            "As an Amateur Radio operator (VHF 2metres) I like to keep up with what is \n",
            "going up (and for that matter what is coming down too).\n",
            " \n",
            "In about 30 days I have learned ALOT about satellites current, future and \n",
            "past all the way back to Vanguard series and up to Astro D observatory \n",
            "(space).  I borrowed a book from the library called Weater Satellites (I \n",
            "think, it has a photo of the earth with a TIROS type satellite on it.)\n",
            " \n",
            "I would like to build a model or have a large color poster of one of the \n",
            "TIROS satellites I think there are places in the USA that sell them.\n",
            "ITOS is my favorite looking satellite, followed by AmSat-OSCAR 13 \n",
            "(AO-13).\n",
            " \n",
            "TTYL\n",
            "73\n",
            "Jim\n"
          ]
        }
      ]
    },
    {
      "cell_type": "code",
      "source": [
        "#\n",
        "# EXERCISE: fetch multiple topics from the 20 newsgroups\n",
        "# dataset and query them using the approach we followed.\n",
        "# A list of topics can be found here:\n",
        "# https://scikit-learn.org/stable/datasets/real_world.html#the-20-newsgroups-text-dataset\n",
        "#\n",
        "# If you're feeling ambitious, incorporate n-grams or\n",
        "# look at how you can measure precision and recall.\n",
        "#\n",
        "\n",
        "# Fetch the 20 newsgroups dataset\n",
        "newsgroups = fetch_20newsgroups(subset='train')\n",
        "\n",
        "# Select multiple topics of interest\n",
        "topics = ['sci.space', 'rec.sport.baseball', 'comp.graphics']\n",
        "\n",
        "# Filter documents related to the selected topics\n",
        "selected_documents = [doc for doc, target in zip(newsgroups.data, newsgroups.target) if newsgroups.target_names[target] in topics]\n",
        "\n",
        "# Preprocess the text data and compute TF-IDF representation\n",
        "vectorizer = TfidfVectorizer(stop_words='english', max_features=1000, ngram_range=(1, 2))\n",
        "tfidf_matrix = vectorizer.fit_transform(selected_documents)\n",
        "\n",
        "# Sample query document\n",
        "query_document = \"I'm interested in baseball statistics and graphics design.\"\n",
        "\n",
        "# Compute TF-IDF representation of the query document\n",
        "query_tfidf = vectorizer.transform([query_document])\n",
        "\n",
        "# Query the dataset using cosine similarity\n",
        "similarities = cosine_similarity(tfidf_matrix, query_tfidf)\n",
        "\n",
        "# Sort the similarities and retrieve top documents\n",
        "top_indices = similarities.argsort(axis=0)[::-1][:5].flatten()\n",
        "\n",
        "# Print the top documents and their similarities\n",
        "for idx in top_indices:\n",
        "    print(f\"Similarity: {similarities[idx][0]}\")\n",
        "    print(selected_documents[idx])\n",
        "    print(\"=\"*80)\n"
      ],
      "metadata": {
        "colab": {
          "base_uri": "https://localhost:8080/"
        },
        "id": "P5w8p_jdpKOf",
        "outputId": "aa5c8fb6-9355-48de-a72c-f165d79b26ba"
      },
      "execution_count": null,
      "outputs": [
        {
          "output_type": "stream",
          "name": "stdout",
          "text": [
            "Similarity: 0.28857607178332506\n",
            "From: jaskew@spam.maths.adelaide.edu.au (Joseph Askew)\n",
            "Subject: Re: the call to space (was Re: Clueless Szaboisms )\n",
            "Organization: Statistics, Pure & Applied Mathematics, University of Adelaide\n",
            "Lines: 34\n",
            "\n",
            "In article <1pfiuh$64e@access.digex.com> prb@access.digex.com (Pat) writes:\n",
            "\n",
            ">If the japanese are really going for Nukes, why not go with better\n",
            ">technology then we have.  AS opposed to BWR/PWRs  have they really\n",
            ">considered some of the 3rd generation Inherently safe designs.\n",
            "\n",
            "The Japanese are still on the learning curve as far as nuclear power goes.\n",
            "This means that unlike the Germans (who do great things all by themselves)\n",
            "the Japanese tie up with foreign companies. The major one is Mitsubishi\n",
            "(who else) who have a sharing agreement with GE I think. No chance of a\n",
            "new design.\n",
            "\n",
            ">Sodium has lots of chemical problems but it really solves design\n",
            ">difficulties.  Or the inherently safe types.\n",
            "\n",
            "Sodium has *lots* of chemical problems. Like it eats stainless steel. Very\n",
            "slowly but it gets there in the end. Not what I call a desired property.\n",
            "As for design difficulties, what does sodium do there? It is a bitch and\n",
            "it is only its chemical properties (flwed though they are) that means it\n",
            "gets used. Two loops? That's not a design problem? Isolation from air and\n",
            "water? That doesn't cause design problems? In comparison BWR's a dream rides!\n",
            "\n",
            ">PWR's work real good,  but they need lots of steel,  and they are highly\n",
            ">complex systems.  Simplicity is a virtue.\n",
            "\n",
            "Don't get none of that in a Liquid Sodium Breeder! More steel, more complexity.\n",
            "\n",
            "Joseph Askew\n",
            "\n",
            "-- \n",
            "Joseph Askew, Gauche and Proud  In the autumn stillness, see the Pleiades,\n",
            "jaskew@spam.maths.adelaide.edu  Remote in thorny deserts, fell the grief.\n",
            "Disclaimer? Sue, see if I care  North of our tents, the sky must end somwhere,\n",
            "Actually, I rather like Brenda  Beyond the pale, the River murmurs on.\n",
            "\n",
            "================================================================================\n",
            "Similarity: 0.2844765935018855\n",
            "From: ch41@prism.gatech.EDU (claye hart)\n",
            "Subject: graphics libraries\n",
            "Keywords: graphics, libraries\n",
            "Organization: Georgia Institute of Technology\n",
            "Lines: 16\n",
            "\n",
            "I am interested in a 2d/3d graphics library which will allow our design\n",
            "team to write graphics software for Unix workstations and be as portable as \n",
            "possible.  Eventually this software will have to be moved to Microsoft\n",
            "Windows.  It is my opinion that a good API with hooks to PEX underneath\n",
            "would prove most portable.\n",
            "\n",
            "Does anyone out there have any experience with Figaro+ form TGS or\n",
            "HOOPS from Ithaca Software?  I would appreciate any comments.\n",
            "\n",
            "- Claye Hart\n",
            "\n",
            "-- \n",
            "Claye K. Hart 404-894-9729\n",
            "Georgia Institute of Technology, Atlanta Georgia, 30332\n",
            "uucp:\t  ...!{decvax,hplabs,ncar,purdue,rutgers}!gatech!prism!ch41\n",
            "Internet: claye.hart@gtri.gatech.edu\n",
            "\n",
            "================================================================================\n",
            "Similarity: 0.2783670364383227\n",
            "From: andreasa@dhhalden.no (ANDREAS ARFF)\n",
            "Subject: comp.graphics.programmer\n",
            "Organization: Ostfold College\n",
            "Lines: 20\n",
            "Nntp-Posting-Host: pc105\n",
            "\n",
            "Hello netters\n",
            "\n",
            "Sorry, I don't know if this is the right way of doing this kind of thing,\n",
            "probably should be a CFV, but since I don't have tha ability to create a \n",
            "news group myself, I just want to start the discussion. \n",
            "\n",
            "I enjoy reading c.g very much, but I often find it difficult to sort out what\n",
            "I'm interested in. Everything from screen-drivers, graphics cards, graphics\n",
            "programming and graphics programs are discused here. What I'd like is a \n",
            "comp.graphics.programmer news group.\n",
            "What do you other think.\n",
            "\n",
            "\n",
            "Arff\n",
            "\"Also for the not religous confessor, there is a mystery of higher values,\n",
            "who's birth mankind - to the last - builds upon. They are indisputible. And \n",
            "often disregarded. Seldom you hear them beeing prized, as seldom as you hear \n",
            "a seeing man prizeing what he sees.\" Per Lagerkvist, The Fist \n",
            "(Free translation from Swedish)\n",
            "              --Andreas Arff  andreasa@dhhalden.no--\n",
            "\n",
            "================================================================================\n",
            "Similarity: 0.23127456774760174\n",
            "From: jbrandt@NeoSoft.com (J Brandt)\n",
            "Subject: Beta Testers Wanted for Graphics Libraries\n",
            "Organization: NeoSoft Communications Services -- (713) 684-5900\n",
            "Keywords: xeg ceg beta imsl vni x graphics\n",
            "Lines: 48\n",
            "\n",
            "\n",
            "  Visual Numerics Inc. (formerly IMSL and Precision Visuals) is in the\n",
            "process of securing sites for beta testing X Exponent Graphics 1.0 \n",
            "and C Exponent Graphics 2.0.  (Both X Exponent Graphics and C Exponent\n",
            "Graphics are 3GL products).  The beta period is from April 26 through \n",
            "June 18.  The platform is HP9000/700 running under OS 8.07 with \n",
            "ansi C 8.71 compiler.  The media will be sent on 4mm DAT cartridge \n",
            "tape.  Here are some of the key facts about the two products.\n",
            " \n",
            "X Exponent Graphics 1.0 key facts:\n",
            " \n",
            "1. Complete collection of high-level 2D and 3D application plot types\n",
            "   available through a large collection of X resources.\n",
            "2. Cstom widget for OSF/Motif developers.\n",
            "3. Built-in interactive GUI for plot customization.\n",
            "4. Easily-implemented callbacks for customized application feedback.\n",
            "5. XEG 1.0, being built on the Xt Toolkit provides the user a widget \n",
            "   library that conforms to the expected syntax and standards familar \n",
            "   to X programmers.\n",
            "6. XEG will also be sold as a bundle with Visual Edge's UIM/X product.\n",
            "   This will enable user to use a GUI builder to create the graphical\n",
            "   layout of an application.\n",
            " \n",
            "C Exponent Graphics 2.0 key facts:\n",
            " \n",
            "1. Written in C for C application programmers/developers.  The library\n",
            "   is 100% written in C, and the programming interface conforms to C\n",
            "   standards, taking advantage fo the most desirable features of C.\n",
            "2. Build-in GUI for interactive plot customization.  Through mouse \n",
            "   interaction, the user has complete interactive graph output control\n",
            "   with over 200 graphics attributes for plot customization.\n",
            "3. Large collection of high-level application functions for \"two-call\"\n",
            "   graph creation.  A wide variety of 2D and 3D plot types are available\n",
            "   with minimal programming effort.\n",
            "4. User ability to interrupt and control the X event.  By controlling\n",
            "   the X event loop, when the user use the mouse to manipulate the  plot\n",
            "   the user can allow CEG to control the event loop or the user can \n",
            "   control the event loop.\n",
            " \n",
            "If anyone is interested in beta testing either of the products, please\n",
            "contact Wendy Hou at Visual Numerics via email at hou@imsl.com or call\n",
            "713-279-1066.\n",
            " \n",
            " \n",
            "-- \n",
            "Jaclyn Brandt\n",
            "jbrandt@NeoSoft.com\n",
            "--\n",
            "\n",
            "================================================================================\n",
            "Similarity: 0.2272770009302648\n",
            "From: kjenks@gothamcity.jsc.nasa.gov\n",
            "Subject: Space Station Redesign, JSC Alternative #4\n",
            "Organization: NASA/JSC/GM2, Space Shuttle Program Office \n",
            "X-Newsreader: TIN [version 1.1 PL8]\n",
            "Lines: 71\n",
            "\n",
            "I have 19 (2 MB worth!) uuencode'd GIF images contain charts outlining\n",
            "one of the many alternative Space Station designs being considered in\n",
            "Crystal City.  Mr. Mark Holderman works down the hall from me, and can\n",
            "be reached for comment at (713) 483-1317, or via e-mail at\n",
            "mholderm@jscprofs.nasa.gov.\n",
            "\n",
            "Mark proposed this design, which he calls \"Geode\" (\"rough on the\n",
            "outside, but a gem on the inside\") or the \"ET Strongback with\n",
            "integrated hab modules and centrifuge.\"  As you can see from file\n",
            "geodeA.gif, it uses a Space Shuttle External Tank (ET) in place of much\n",
            "of the truss which is currently part of Space Station Freedom.  The\n",
            "white track on the outside of the ET is used by the Station Remonte\n",
            "Manipulator System (SRMS) and by the Reaction Control System (RCS)\n",
            "pod.  This allows the RCS pod to move along the track so that thrusting\n",
            "can occur near the center of gravity (CG) of the Station as the mass\n",
            "properties of the Station change during assembly.\n",
            "\n",
            "The inline module design allows the Shuttle to dock more easily because\n",
            "it can approach closer to the Station's CG and at a structurally strong\n",
            "part of the Station.  In the current SSF design, docking forces are\n",
            "limited to 400 pounds, which seriously constrains the design of the\n",
            "docking system.\n",
            "\n",
            "The ET would have a hatch installed pre-flight, with little additional\n",
            "launch mass.  We've always had the ability to put an ET into orbit\n",
            "(contrary to some rumors which have circulated here), but we've never\n",
            "had a reason to do it, while we have had some good reasons not to\n",
            "(performance penalties, control, debris generation, and eventual\n",
            "de-orbit and impact footprint).  Once on-orbit, we would vent the\n",
            "residual H2.  The ET insulation (SOFI) either a) erodes on-orbit from\n",
            "impact with atomic Oxygen, or b) stays where it is, and we deploy a\n",
            "Kevlar sheath around it to protect it and keep it from contaminating\n",
            "the local space environment.  Option b) has the advantage of providing\n",
            "further micrometeor protection.  The ET is incredibly strong (remember,\n",
            "it supports the whole stack during launch), and could serve as the\n",
            "nucleus for a much more ambitious design as budget permits.\n",
            "\n",
            "The white module at the end of ET contains a set of Control Moment\n",
            "Gyros to be used for attitude control, while the RCS will be used\n",
            "for gyro desaturation.  The module also contains a de-orbit system\n",
            "which can be used at the end of the Station's life to perform a\n",
            "controlled de-orbit (so we don't kill any more kangaroos, like we\n",
            "did with Skylab).\n",
            "\n",
            "The centrifuge, which has the same volume as a hab module, could be\n",
            "used for long-term studies of the effects of lunar or martian gravity\n",
            "on humans.  The centrifuge will be used as a momentum storage device\n",
            "for the whole attitude control system.  The centrifuge is mounted on\n",
            "one of the modules, opposite the ET and the solar panels.\n",
            "\n",
            "This design uses most of the existing SSF designs for electrical,\n",
            "data and communication systems, getting leverage from the SSF work\n",
            "done to date.\n",
            "\n",
            "Mark proposed this design at Joe Shea's committee in Crystal City,\n",
            "and he reports that he was warmly received.  However, the rumors\n",
            "I hear say that a design based on a wingless Space Shuttle Orbiter\n",
            "seems more likely.\n",
            "\n",
            "Please note that this text is my interpretation of Mark's design;\n",
            "you should see his notes in the GIF files.  \n",
            "\n",
            "Instead of posting a 2 MB file to sci.space, I tried to post these for\n",
            "anon-FTP in ames.arc.nasa.gov, but it was out of storage space.  I'll\n",
            "let you all know when I get that done.\n",
            "\n",
            "-- Ken Jenks, NASA/JSC/GM2, Space Shuttle Program Office\n",
            "      kjenks@gothamcity.jsc.nasa.gov  (713) 483-4368\n",
            "\n",
            "     \"...Development of the space station is as inevitable as \n",
            "      the rising of the sun.\" -- Wernher von Braun\n",
            "\n",
            "================================================================================\n"
          ]
        }
      ]
    },
    {
      "cell_type": "code",
      "source": [],
      "metadata": {
        "id": "wIDgJ2r9ph4M"
      },
      "execution_count": null,
      "outputs": []
    }
  ]
}